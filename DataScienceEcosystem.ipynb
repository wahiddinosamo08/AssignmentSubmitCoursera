{
 "cells": [
  {
   "cell_type": "markdown",
   "id": "4b75ed17",
   "metadata": {},
   "source": [
    "# Data Science Tools and Ecosystem"
   ]
  },
  {
   "cell_type": "markdown",
   "id": "55f02e3f",
   "metadata": {},
   "source": [
    "In this notebook, Data Science Tools and Ecosystem are summarized"
   ]
  },
  {
   "cell_type": "markdown",
   "id": "4627ed32",
   "metadata": {},
   "source": [
    "Some of the popular languages that Data Scientists use are:\n",
    "\n",
    "1) Python\n",
    "2) R\n",
    "3) SQL\n",
    "4) Julia\n",
    "5) Java\n",
    "6) Scala"
   ]
  },
  {
   "cell_type": "markdown",
   "id": "259d3dae",
   "metadata": {},
   "source": [
    "Some of the commonly used libraries used by Data Scientists include:\n",
    "\n",
    "    1) scikit-learn\n",
    "    2) tensorflow\n",
    "    3) Scipy\n",
    "    4) Numpy\n",
    "    5) PyTorch"
   ]
  },
  {
   "cell_type": "markdown",
   "id": "ec0b82f0",
   "metadata": {},
   "source": [
    "|Data Science Tools|\n",
    "|---|\n",
    "|Apache Spark|\n",
    "|Jupter Lab |\n",
    "|Tensor Flow|"
   ]
  },
  {
   "cell_type": "code",
   "execution_count": 3,
   "id": "ac078656",
   "metadata": {},
   "outputs": [
    {
     "name": "stdout",
     "output_type": "stream",
     "text": [
      "17\n"
     ]
    }
   ],
   "source": [
    "#This is a simple arithemetic expression to multiply then add integers\n",
    "print((3*4)+5)"
   ]
  },
  {
   "cell_type": "code",
   "execution_count": 5,
   "id": "66e70bc1",
   "metadata": {
    "scrolled": true
   },
   "outputs": [
    {
     "name": "stdout",
     "output_type": "stream",
     "text": [
      "200 minutes is  3.3333333333333335 Hours\n"
     ]
    }
   ],
   "source": [
    "#This will convert 200 minutes to hours by dividing by 60\n",
    "print('200 minutes is ',200/60, 'Hours')"
   ]
  },
  {
   "cell_type": "markdown",
   "id": "13e34928",
   "metadata": {},
   "source": [
    "**Objectives**\n",
    "- List popular languages for Data Science\n",
    "- List the popular libraries used in Data Science\n",
    "- List the popular open-source enviourments(tools) for data science\n",
    "- Do Arthimetic Operations in Jupyter Notebook using Python\n",
    "- Convert 200 minutes to hours"
   ]
  },
  {
   "cell_type": "markdown",
   "id": "0e30b042",
   "metadata": {},
   "source": [
    "## Author\n",
    "Wahid Dino Samo"
   ]
  }
 ],
 "metadata": {
  "kernelspec": {
   "display_name": "Python 3 (ipykernel)",
   "language": "python",
   "name": "python3"
  },
  "language_info": {
   "codemirror_mode": {
    "name": "ipython",
    "version": 3
   },
   "file_extension": ".py",
   "mimetype": "text/x-python",
   "name": "python",
   "nbconvert_exporter": "python",
   "pygments_lexer": "ipython3",
   "version": "3.10.9"
  }
 },
 "nbformat": 4,
 "nbformat_minor": 5
}
